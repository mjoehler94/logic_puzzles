{
 "cells": [
  {
   "cell_type": "markdown",
   "metadata": {},
   "source": [
    "# Clue Riddle\n",
    "____"
   ]
  },
  {
   "cell_type": "markdown",
   "metadata": {},
   "source": [
    "One rainy evening, Mr. Body killed 5 people at Clue Mansion. The people killed were Mrs. White, Mr. Green, Professor Plum, Colonel Mustard, and Ms. Scarlet. The murders took place in the kitchen, billiards room, conservatory, hall, and library. No two people were murdered with the same weapon. The weapons were candlestick, rope, revolver, knife, and lead pipe. From the clues given, try to determine the room in which each person was killed and the weapon used.\n",
    "1. The murder with the lead pipe was not done in the hall or the library.\n",
    "2. Mr. Green was not murdered in the kitchen.\n",
    "3. The rope was not the murder weapon used in the library.\n",
    "4. Neither Mrs. White nor Ms. Scarlet were murdered with the candlestick, the revolver, or the lead pipe.\n",
    "5. The person who was murdered in the billiards room had just finished having dinner with Ms. Scarlet, Mr. Green, the person done in with the candlestick, and the victim of the rope.\n",
    "6. Neither Mr. Green nor Professor Plum were killed with the lead pipe, in the hall, or in the library."
   ]
  },
  {
   "cell_type": "code",
   "execution_count": 1,
   "metadata": {},
   "outputs": [],
   "source": [
    "# libraries\n",
    "import pandas as pd\n",
    "import numpy as np\n",
    "from itertools import permutations\n",
    "import time"
   ]
  },
  {
   "cell_type": "code",
   "execution_count": 2,
   "metadata": {},
   "outputs": [
    {
     "name": "stdout",
     "output_type": "stream",
     "text": [
      "starting...\n",
      "('white', 'green', 'plum', 'mustard', 'scarlet')\n",
      "('hall', 'conservatory', 'kitchen', 'billiards', 'library')\n",
      "('rope', 'revolver', 'candlestick', 'pipe', 'knife')\n",
      "num_matches: 1\n",
      "elapsed_time: 0.025 sec\n"
     ]
    }
   ],
   "source": [
    "class Solver(object):\n",
    "\n",
    "    def run(self):\n",
    "        print('starting...')\n",
    "        start_time = time.time()\n",
    "\n",
    "        self.solve()\n",
    "\n",
    "        elapsed_time = time.time() - start_time\n",
    "        print('elapsed_time: {:.3f} sec'.format(elapsed_time))\n",
    "\n",
    "    def solve(self):\n",
    "        \"\"\"\n",
    "        One rainy evening, Mr. Body killed 5 people at Clue Mansion. The people killed were Mrs. White, Mr. Green,\n",
    "        Professor Plum, Colonel Mustard, and Ms. Scarlet. The murders took place in the kitchen, billiards room,\n",
    "        conservatory, hall, and library. No two people were murdered with the same weapon. The weapons were\n",
    "        candlestick, rope, revolver, knife, and lead pipe. From the clues given, try to determine the room in which\n",
    "        each person was killed and the weapon used.\n",
    "        1. The murder with the lead pipe was not done in the hall or the library.\n",
    "        2. Mr. Green was not murdered in the kitchen.\n",
    "        3. The rope was not the murder weapon used in the library.\n",
    "        4. Neither Mrs. White nor Ms. Scarlet were murdered with the candlestick, the revolver, or the lead pipe.\n",
    "        5. The person who was murdered in the billiards room had just finished having dinner with Ms. Scarlet,\n",
    "                Mr. Green, the person done in with the candlestick, and the victim of the rope.\n",
    "        6. Neither Mr. Green nor Professor Plum were killed with the lead pipe, in the hall, or in the library.\n",
    "        \"\"\"\n",
    "\n",
    "        people = ('white', 'green', 'plum', 'mustard', 'scarlet')\n",
    "        places_start = ['kitchen', 'billiards', 'conservatory', 'hall', 'library']\n",
    "        things_start = ['candlestick', 'rope', 'revolver', 'knife', 'pipe']\n",
    "\n",
    "        matches = []\n",
    "\n",
    "        white_idx = people.index('white')\n",
    "        green_idx = people.index('green')\n",
    "        plum_idx = people.index('plum')\n",
    "        scarlet_idx = people.index('scarlet')\n",
    "\n",
    "        for places in permutations(places_start):\n",
    "            kitchen_idx = places.index('kitchen')\n",
    "            billiards_idx = places.index('billiards')\n",
    "            hall_idx = places.index('hall')\n",
    "            library_idx = places.index('library')\n",
    "\n",
    "            for things in permutations(things_start):\n",
    "                candlestick_idx = things.index('candlestick')\n",
    "                rope_idx = things.index('rope')\n",
    "                revolver_idx = things.index('revolver')\n",
    "                pipe_idx = things.index('pipe')\n",
    "\n",
    "                # rule 1\n",
    "                if pipe_idx == hall_idx or pipe_idx == library_idx:\n",
    "                    continue\n",
    "\n",
    "                # rule 2\n",
    "                if green_idx == kitchen_idx:\n",
    "                    continue\n",
    "\n",
    "                # rule 3\n",
    "                if rope_idx == library_idx:\n",
    "                    continue\n",
    "\n",
    "                # rule 4\n",
    "                blacklist = {candlestick_idx, revolver_idx, pipe_idx}\n",
    "                if white_idx in blacklist or scarlet_idx in blacklist:\n",
    "                    continue\n",
    "\n",
    "                # rule 5\n",
    "                dinner_guests = {billiards_idx, scarlet_idx, green_idx, candlestick_idx, rope_idx}\n",
    "                if len(dinner_guests) != 5:\n",
    "                    continue\n",
    "\n",
    "                # rule 6\n",
    "                blacklist = {pipe_idx, hall_idx, library_idx}\n",
    "                if green_idx in blacklist or plum_idx in blacklist:\n",
    "                    continue\n",
    "\n",
    "                # found a match\n",
    "                print(people)\n",
    "                print(places)\n",
    "                print(things)\n",
    "                matches.append((people, places, things))\n",
    "\n",
    "        num_matches = len(matches)\n",
    "        print('num_matches: {}'.format(num_matches))\n",
    "        assert num_matches == 1\n",
    "\n",
    "\n",
    "if __name__ == '__main__':\n",
    "    instance = Solver()\n",
    "    instance.run()"
   ]
  },
  {
   "cell_type": "markdown",
   "metadata": {},
   "source": [
    "## Scratch Code"
   ]
  },
  {
   "cell_type": "code",
   "execution_count": null,
   "metadata": {},
   "outputs": [],
   "source": [
    "# helper function\n",
    "def make_scenarios(people, places, things):\n",
    "    \"\"\"return a data frame with a row for each possible murder scenario\n",
    "    \"\"\"\n",
    "    scenarios = []\n",
    "    for person in people:\n",
    "        for place in places:\n",
    "            for thing in things:\n",
    "                scenarios.append([person,place,thing])\n",
    "                \n",
    "    data = pd.DataFrame(scenarios,columns = ['Person','Place','Thing'])\n",
    "    return data"
   ]
  },
  {
   "cell_type": "code",
   "execution_count": null,
   "metadata": {},
   "outputs": [],
   "source": [
    "# generate data\n",
    "people = ['white', 'green', 'plum', 'mustard', 'scarlet']\n",
    "places = ['kitchen', 'billiards', 'conservatory', 'hall', 'library']\n",
    "things = ['candlestick', 'rope', 'revolver', 'knife', 'pipe']\n",
    "\n",
    "data = make_scenarios(people, places, things)\n",
    "print(data.shape)\n",
    "# data.sample(15)"
   ]
  },
  {
   "cell_type": "code",
   "execution_count": null,
   "metadata": {},
   "outputs": [],
   "source": [
    "# conditions: (1 if scenario is possible, 0 otherwise)\n",
    "data['cond_1'] = np.where((data['Thing'] == 'pipe') & (data['Place'].isin(['hall','library'])), 0, 1)\n",
    "data['cond_2'] = np.where((data['Person'] == 'green') & (data['Place'] == 'kitchen'),0 ,1)\n",
    "data['cond_3'] = np.where((data['Thing'] == 'rope') & (data['Place'] == 'library'), 0, 1)\n",
    "data['cond_4'] = np.where(\n",
    "    (data['Person'].isin(['white','scarlet'])) \n",
    "    & (data['Thing'].isin(['candlestick','revolver','pipe'])),\n",
    "       0, 1)\n",
    "data['cond_5'] = np.where(\n",
    "    (data['Place'] == 'billiards')\n",
    "    & ((data['Person'].isin(['green','scarlet'])) \n",
    "        |(data['Thing'].isin(['rope','candlestick'])) )\n",
    "    ,0 ,1)\n",
    "data['cond_6'] = np.where(\n",
    "    (data['Person'].isin(['plum','green']))\n",
    "    & (data['Thing'].isin(['pipe'])) | (data['Place'].isin(['hall','library'])),\n",
    "    0, 1)\n",
    "\n",
    "cond_list = ['cond_' + str(x) for x in range(1,7)]\n",
    "data['valid'] = data[cond_list].sum(axis=1)\n",
    "\n",
    "for col in cond_list:\n",
    "    print(col, data.shape[0] - data[col].sum())"
   ]
  },
  {
   "cell_type": "code",
   "execution_count": null,
   "metadata": {},
   "outputs": [],
   "source": [
    "# preview the valid scenarios only\n",
    "# data.head(15)\n",
    "solved = data[\n",
    "    (data['valid'] == 6)\n",
    "    \n",
    "]\n",
    "print(solved.shape)\n",
    "solved"
   ]
  },
  {
   "cell_type": "code",
   "execution_count": null,
   "metadata": {},
   "outputs": [],
   "source": [
    "solved.pivot_table(\n",
    "    index = ['Person','Place'],\n",
    "    values = ['valid'],\n",
    "    aggfunc='count'\n",
    ")"
   ]
  },
  {
   "cell_type": "code",
   "execution_count": null,
   "metadata": {},
   "outputs": [],
   "source": []
  }
 ],
 "metadata": {
  "kernelspec": {
   "display_name": "Python 3",
   "language": "python",
   "name": "python3"
  },
  "language_info": {
   "codemirror_mode": {
    "name": "ipython",
    "version": 3
   },
   "file_extension": ".py",
   "mimetype": "text/x-python",
   "name": "python",
   "nbconvert_exporter": "python",
   "pygments_lexer": "ipython3",
   "version": "3.7.7"
  }
 },
 "nbformat": 4,
 "nbformat_minor": 4
}
